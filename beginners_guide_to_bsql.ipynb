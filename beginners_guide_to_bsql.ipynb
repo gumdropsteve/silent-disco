{
 "cells": [
  {
   "cell_type": "markdown",
   "metadata": {},
   "source": [
    "# [Beginners Guide to BlazingSQL](https://medium.com/dropout-analytics/beginners-guide-to-blazingsql-9ab6c2a9c6ad?source=friends_link&sk=1c4a81ea2cb0a061423c2d370acb60f4)"
   ]
  },
  {
   "cell_type": "code",
   "execution_count": 1,
   "metadata": {},
   "outputs": [
    {
     "name": "stdout",
     "output_type": "stream",
     "text": [
      "BlazingContext ready\n"
     ]
    }
   ],
   "source": [
    "from blazingsql import BlazingContext\n",
    "bc = BlazingContext()"
   ]
  },
  {
   "cell_type": "markdown",
   "metadata": {},
   "source": [
    "### Linear Regression on Data from AWS S3\n",
    "\n",
    "We are going to predict the fare of a [NYC Yellow Taxi](https://www1.nyc.gov/site/tlc/about/tlc-trip-record-data.page) cab ride by running a `LinearRegression()` on a `cudf.DataFrame`. This DataFrame will be generated from a SQL query on a Apache Parquet dataset that resides in a public AWS S3 bucket. For more information on BlazingSQL and cuDF see [The DataFrame Notebook](https://app.blazingsql.com/jupyter/user-redirect/lab/workspaces/auto-b/tree/Welcome_to_BlazingSQL_Notebooks/intro_notebooks/the_dataframe.ipynb).\n",
    "\n",
    "**Connect AWS S3 bucket**"
   ]
  },
  {
   "cell_type": "code",
   "execution_count": 2,
   "metadata": {},
   "outputs": [
    {
     "data": {
      "text/plain": [
       "(True,\n",
       " '',\n",
       " OrderedDict([('type', 's3'),\n",
       "              ('bucket_name', 'blazingsql-colab'),\n",
       "              ('access_key_id', ''),\n",
       "              ('secret_key', ''),\n",
       "              ('session_token', ''),\n",
       "              ('encryption_type', <S3EncryptionType.NONE: 1>),\n",
       "              ('kms_key_amazon_resource_name', '')]))"
      ]
     },
     "execution_count": 2,
     "metadata": {},
     "output_type": "execute_result"
    }
   ],
   "source": [
    "bc.s3('blazingsql-colab', bucket_name='blazingsql-colab')"
   ]
  },
  {
   "cell_type": "markdown",
   "metadata": {},
   "source": [
    "**Create table**"
   ]
  },
  {
   "cell_type": "code",
   "execution_count": 3,
   "metadata": {},
   "outputs": [],
   "source": [
    "bc.create_table('taxi', 's3://blazingsql-colab/yellow_taxi/1_0_0.parquet')"
   ]
  },
  {
   "cell_type": "markdown",
   "metadata": {},
   "source": [
    "**Query table**"
   ]
  },
  {
   "cell_type": "code",
   "execution_count": 4,
   "metadata": {},
   "outputs": [
    {
     "data": {
      "text/html": [
       "<div>\n",
       "<style scoped>\n",
       "    .dataframe tbody tr th:only-of-type {\n",
       "        vertical-align: middle;\n",
       "    }\n",
       "\n",
       "    .dataframe tbody tr th {\n",
       "        vertical-align: top;\n",
       "    }\n",
       "\n",
       "    .dataframe thead th {\n",
       "        text-align: right;\n",
       "    }\n",
       "</style>\n",
       "<table border=\"1\" class=\"dataframe\">\n",
       "  <thead>\n",
       "    <tr style=\"text-align: right;\">\n",
       "      <th></th>\n",
       "      <th>vendor_id</th>\n",
       "      <th>tpep_pickup_datetime</th>\n",
       "      <th>tpep_dropoff_datetime</th>\n",
       "      <th>passenger_count</th>\n",
       "      <th>trip_distance</th>\n",
       "      <th>rate_code_id</th>\n",
       "      <th>store_and_fwd_flag</th>\n",
       "      <th>pickup_loc_id</th>\n",
       "      <th>dropoff_loc_id</th>\n",
       "      <th>payment_type</th>\n",
       "      <th>Fare_amount</th>\n",
       "      <th>Extra</th>\n",
       "      <th>MTA_tax</th>\n",
       "      <th>Improvement_surcharge</th>\n",
       "      <th>Tip_amount</th>\n",
       "      <th>Tolls_amount</th>\n",
       "      <th>Total_amount</th>\n",
       "    </tr>\n",
       "  </thead>\n",
       "  <tbody>\n",
       "    <tr>\n",
       "      <th>0</th>\n",
       "      <td>1</td>\n",
       "      <td>2017-01-09 11:13:28</td>\n",
       "      <td>2017-01-09 11:25:45</td>\n",
       "      <td>1</td>\n",
       "      <td>3.300000</td>\n",
       "      <td>1</td>\n",
       "      <td>N</td>\n",
       "      <td>263</td>\n",
       "      <td>161</td>\n",
       "      <td>1</td>\n",
       "      <td>12.5</td>\n",
       "      <td>0.0</td>\n",
       "      <td>0.5</td>\n",
       "      <td>2.00</td>\n",
       "      <td>0.0</td>\n",
       "      <td>0.3</td>\n",
       "      <td>15.300000</td>\n",
       "    </tr>\n",
       "    <tr>\n",
       "      <th>1</th>\n",
       "      <td>1</td>\n",
       "      <td>2017-01-09 11:32:27</td>\n",
       "      <td>2017-01-09 11:36:01</td>\n",
       "      <td>1</td>\n",
       "      <td>0.900000</td>\n",
       "      <td>1</td>\n",
       "      <td>N</td>\n",
       "      <td>186</td>\n",
       "      <td>234</td>\n",
       "      <td>1</td>\n",
       "      <td>5.0</td>\n",
       "      <td>0.0</td>\n",
       "      <td>0.5</td>\n",
       "      <td>1.45</td>\n",
       "      <td>0.0</td>\n",
       "      <td>0.3</td>\n",
       "      <td>7.250000</td>\n",
       "    </tr>\n",
       "    <tr>\n",
       "      <th>2</th>\n",
       "      <td>1</td>\n",
       "      <td>2017-01-09 11:38:20</td>\n",
       "      <td>2017-01-09 11:42:05</td>\n",
       "      <td>1</td>\n",
       "      <td>1.100000</td>\n",
       "      <td>1</td>\n",
       "      <td>N</td>\n",
       "      <td>164</td>\n",
       "      <td>161</td>\n",
       "      <td>1</td>\n",
       "      <td>5.5</td>\n",
       "      <td>0.0</td>\n",
       "      <td>0.5</td>\n",
       "      <td>1.00</td>\n",
       "      <td>0.0</td>\n",
       "      <td>0.3</td>\n",
       "      <td>7.300000</td>\n",
       "    </tr>\n",
       "    <tr>\n",
       "      <th>3</th>\n",
       "      <td>1</td>\n",
       "      <td>2017-01-09 11:52:13</td>\n",
       "      <td>2017-01-09 11:57:36</td>\n",
       "      <td>1</td>\n",
       "      <td>1.100000</td>\n",
       "      <td>1</td>\n",
       "      <td>N</td>\n",
       "      <td>236</td>\n",
       "      <td>75</td>\n",
       "      <td>1</td>\n",
       "      <td>6.0</td>\n",
       "      <td>0.0</td>\n",
       "      <td>0.5</td>\n",
       "      <td>1.70</td>\n",
       "      <td>0.0</td>\n",
       "      <td>0.3</td>\n",
       "      <td>8.500000</td>\n",
       "    </tr>\n",
       "    <tr>\n",
       "      <th>4</th>\n",
       "      <td>2</td>\n",
       "      <td>2017-01-01 00:00:00</td>\n",
       "      <td>2017-01-01 00:00:00</td>\n",
       "      <td>1</td>\n",
       "      <td>0.020000</td>\n",
       "      <td>2</td>\n",
       "      <td>N</td>\n",
       "      <td>249</td>\n",
       "      <td>234</td>\n",
       "      <td>2</td>\n",
       "      <td>52.0</td>\n",
       "      <td>0.0</td>\n",
       "      <td>0.5</td>\n",
       "      <td>0.00</td>\n",
       "      <td>0.0</td>\n",
       "      <td>0.3</td>\n",
       "      <td>52.799999</td>\n",
       "    </tr>\n",
       "    <tr>\n",
       "      <th>...</th>\n",
       "      <td>...</td>\n",
       "      <td>...</td>\n",
       "      <td>...</td>\n",
       "      <td>...</td>\n",
       "      <td>...</td>\n",
       "      <td>...</td>\n",
       "      <td>...</td>\n",
       "      <td>...</td>\n",
       "      <td>...</td>\n",
       "      <td>...</td>\n",
       "      <td>...</td>\n",
       "      <td>...</td>\n",
       "      <td>...</td>\n",
       "      <td>...</td>\n",
       "      <td>...</td>\n",
       "      <td>...</td>\n",
       "      <td>...</td>\n",
       "    </tr>\n",
       "    <tr>\n",
       "      <th>18826826</th>\n",
       "      <td>1</td>\n",
       "      <td>2018-05-01 16:31:07</td>\n",
       "      <td>2018-05-01 16:43:07</td>\n",
       "      <td>0</td>\n",
       "      <td>1.300000</td>\n",
       "      <td>1</td>\n",
       "      <td>N</td>\n",
       "      <td>161</td>\n",
       "      <td>234</td>\n",
       "      <td>1</td>\n",
       "      <td>9.0</td>\n",
       "      <td>1.0</td>\n",
       "      <td>0.5</td>\n",
       "      <td>2.15</td>\n",
       "      <td>0.0</td>\n",
       "      <td>0.3</td>\n",
       "      <td>12.950000</td>\n",
       "    </tr>\n",
       "    <tr>\n",
       "      <th>18826827</th>\n",
       "      <td>1</td>\n",
       "      <td>2018-05-01 16:44:57</td>\n",
       "      <td>2018-05-01 17:11:43</td>\n",
       "      <td>0</td>\n",
       "      <td>4.300000</td>\n",
       "      <td>1</td>\n",
       "      <td>N</td>\n",
       "      <td>234</td>\n",
       "      <td>13</td>\n",
       "      <td>1</td>\n",
       "      <td>19.5</td>\n",
       "      <td>1.0</td>\n",
       "      <td>0.5</td>\n",
       "      <td>5.30</td>\n",
       "      <td>0.0</td>\n",
       "      <td>0.3</td>\n",
       "      <td>26.600000</td>\n",
       "    </tr>\n",
       "    <tr>\n",
       "      <th>18826828</th>\n",
       "      <td>2</td>\n",
       "      <td>2018-05-01 16:10:21</td>\n",
       "      <td>2018-05-01 16:27:40</td>\n",
       "      <td>2</td>\n",
       "      <td>4.020000</td>\n",
       "      <td>1</td>\n",
       "      <td>N</td>\n",
       "      <td>262</td>\n",
       "      <td>234</td>\n",
       "      <td>1</td>\n",
       "      <td>16.0</td>\n",
       "      <td>1.0</td>\n",
       "      <td>0.5</td>\n",
       "      <td>1.80</td>\n",
       "      <td>0.0</td>\n",
       "      <td>0.3</td>\n",
       "      <td>19.600000</td>\n",
       "    </tr>\n",
       "    <tr>\n",
       "      <th>18826829</th>\n",
       "      <td>2</td>\n",
       "      <td>2018-05-01 16:45:53</td>\n",
       "      <td>2018-05-01 17:39:44</td>\n",
       "      <td>1</td>\n",
       "      <td>17.700001</td>\n",
       "      <td>2</td>\n",
       "      <td>N</td>\n",
       "      <td>132</td>\n",
       "      <td>148</td>\n",
       "      <td>1</td>\n",
       "      <td>52.0</td>\n",
       "      <td>4.5</td>\n",
       "      <td>0.5</td>\n",
       "      <td>14.32</td>\n",
       "      <td>0.0</td>\n",
       "      <td>0.3</td>\n",
       "      <td>71.620003</td>\n",
       "    </tr>\n",
       "    <tr>\n",
       "      <th>18826830</th>\n",
       "      <td>1</td>\n",
       "      <td>2018-05-01 16:27:24</td>\n",
       "      <td>2018-05-01 16:34:49</td>\n",
       "      <td>1</td>\n",
       "      <td>0.600000</td>\n",
       "      <td>1</td>\n",
       "      <td>N</td>\n",
       "      <td>114</td>\n",
       "      <td>158</td>\n",
       "      <td>1</td>\n",
       "      <td>6.0</td>\n",
       "      <td>1.0</td>\n",
       "      <td>0.5</td>\n",
       "      <td>1.55</td>\n",
       "      <td>0.0</td>\n",
       "      <td>0.3</td>\n",
       "      <td>9.350000</td>\n",
       "    </tr>\n",
       "  </tbody>\n",
       "</table>\n",
       "<p>18826831 rows × 17 columns</p>\n",
       "</div>"
      ],
      "text/plain": [
       "          vendor_id tpep_pickup_datetime tpep_dropoff_datetime  \\\n",
       "0                 1  2017-01-09 11:13:28   2017-01-09 11:25:45   \n",
       "1                 1  2017-01-09 11:32:27   2017-01-09 11:36:01   \n",
       "2                 1  2017-01-09 11:38:20   2017-01-09 11:42:05   \n",
       "3                 1  2017-01-09 11:52:13   2017-01-09 11:57:36   \n",
       "4                 2  2017-01-01 00:00:00   2017-01-01 00:00:00   \n",
       "...             ...                  ...                   ...   \n",
       "18826826          1  2018-05-01 16:31:07   2018-05-01 16:43:07   \n",
       "18826827          1  2018-05-01 16:44:57   2018-05-01 17:11:43   \n",
       "18826828          2  2018-05-01 16:10:21   2018-05-01 16:27:40   \n",
       "18826829          2  2018-05-01 16:45:53   2018-05-01 17:39:44   \n",
       "18826830          1  2018-05-01 16:27:24   2018-05-01 16:34:49   \n",
       "\n",
       "          passenger_count  trip_distance  rate_code_id store_and_fwd_flag  \\\n",
       "0                       1       3.300000             1                  N   \n",
       "1                       1       0.900000             1                  N   \n",
       "2                       1       1.100000             1                  N   \n",
       "3                       1       1.100000             1                  N   \n",
       "4                       1       0.020000             2                  N   \n",
       "...                   ...            ...           ...                ...   \n",
       "18826826                0       1.300000             1                  N   \n",
       "18826827                0       4.300000             1                  N   \n",
       "18826828                2       4.020000             1                  N   \n",
       "18826829                1      17.700001             2                  N   \n",
       "18826830                1       0.600000             1                  N   \n",
       "\n",
       "          pickup_loc_id  dropoff_loc_id  payment_type  Fare_amount  Extra  \\\n",
       "0                   263             161             1         12.5    0.0   \n",
       "1                   186             234             1          5.0    0.0   \n",
       "2                   164             161             1          5.5    0.0   \n",
       "3                   236              75             1          6.0    0.0   \n",
       "4                   249             234             2         52.0    0.0   \n",
       "...                 ...             ...           ...          ...    ...   \n",
       "18826826            161             234             1          9.0    1.0   \n",
       "18826827            234              13             1         19.5    1.0   \n",
       "18826828            262             234             1         16.0    1.0   \n",
       "18826829            132             148             1         52.0    4.5   \n",
       "18826830            114             158             1          6.0    1.0   \n",
       "\n",
       "          MTA_tax  Improvement_surcharge  Tip_amount  Tolls_amount  \\\n",
       "0             0.5                   2.00         0.0           0.3   \n",
       "1             0.5                   1.45         0.0           0.3   \n",
       "2             0.5                   1.00         0.0           0.3   \n",
       "3             0.5                   1.70         0.0           0.3   \n",
       "4             0.5                   0.00         0.0           0.3   \n",
       "...           ...                    ...         ...           ...   \n",
       "18826826      0.5                   2.15         0.0           0.3   \n",
       "18826827      0.5                   5.30         0.0           0.3   \n",
       "18826828      0.5                   1.80         0.0           0.3   \n",
       "18826829      0.5                  14.32         0.0           0.3   \n",
       "18826830      0.5                   1.55         0.0           0.3   \n",
       "\n",
       "          Total_amount  \n",
       "0            15.300000  \n",
       "1             7.250000  \n",
       "2             7.300000  \n",
       "3             8.500000  \n",
       "4            52.799999  \n",
       "...                ...  \n",
       "18826826     12.950000  \n",
       "18826827     26.600000  \n",
       "18826828     19.600000  \n",
       "18826829     71.620003  \n",
       "18826830      9.350000  \n",
       "\n",
       "[18826831 rows x 17 columns]"
      ]
     },
     "execution_count": 4,
     "metadata": {},
     "output_type": "execute_result"
    }
   ],
   "source": [
    "bc.sql('select * from taxi')"
   ]
  },
  {
   "cell_type": "markdown",
   "metadata": {},
   "source": [
    "**Hand off Results**\n",
    "\n",
    "Extract the desired features with `.sql()`, and then split up the data test using cuML's `train_test_split()` function."
   ]
  },
  {
   "cell_type": "code",
   "execution_count": 5,
   "metadata": {},
   "outputs": [
    {
     "name": "stdout",
     "output_type": "stream",
     "text": [
      "CPU times: user 942 ms, sys: 481 ms, total: 1.42 s\n",
      "Wall time: 1.72 s\n"
     ]
    }
   ],
   "source": [
    "%%time\n",
    "from cuml.preprocessing.model_selection import train_test_split\n",
    "\n",
    "X = bc.sql('SELECT trip_distance, tolls_amount FROM taxi')\n",
    "y = bc.sql('SELECT fare_amount FROM taxi')['fare_amount']\n",
    "\n",
    "X_train, X_test, y_train, y_test = train_test_split(X, y, train_size=0.8)"
   ]
  },
  {
   "cell_type": "markdown",
   "metadata": {},
   "source": [
    "Then we run the `.fit()` and `.predict()` functions to perform the linear regression on the Taxi data."
   ]
  },
  {
   "cell_type": "code",
   "execution_count": 6,
   "metadata": {},
   "outputs": [
    {
     "name": "stdout",
     "output_type": "stream",
     "text": [
      "CPU times: user 460 ms, sys: 134 ms, total: 594 ms\n",
      "Wall time: 605 ms\n"
     ]
    }
   ],
   "source": [
    "%%time\n",
    "from cuml import LinearRegression\n",
    "\n",
    "# call Linear Regression model\n",
    "lr = LinearRegression()\n",
    "\n",
    "# train the model\n",
    "lr.fit(X_train, y_train)\n",
    "\n",
    "# make predictions for test X values\n",
    "y_pred = lr.predict(X_test)"
   ]
  },
  {
   "cell_type": "markdown",
   "metadata": {},
   "source": [
    "We can convert test & predicted values `.to_pandas()` & find the model's `r2_score()`."
   ]
  },
  {
   "cell_type": "code",
   "execution_count": 7,
   "metadata": {},
   "outputs": [
    {
     "data": {
      "text/plain": [
       "0.806373087168271"
      ]
     },
     "execution_count": 7,
     "metadata": {},
     "output_type": "execute_result"
    }
   ],
   "source": [
    "from sklearn.metrics import r2_score\n",
    "\n",
    "y_test = y_test.to_pandas()\n",
    "y_pred = y_pred.to_pandas()\n",
    "\n",
    "r2_score(y_true=y_test, y_pred=y_pred)"
   ]
  }
 ],
 "metadata": {
  "kernelspec": {
   "display_name": "RAPIDS Stable",
   "language": "python",
   "name": "rapids-stable"
  },
  "language_info": {
   "codemirror_mode": {
    "name": "ipython",
    "version": 3
   },
   "file_extension": ".py",
   "mimetype": "text/x-python",
   "name": "python",
   "nbconvert_exporter": "python",
   "pygments_lexer": "ipython3",
   "version": "3.7.6"
  }
 },
 "nbformat": 4,
 "nbformat_minor": 4
}
